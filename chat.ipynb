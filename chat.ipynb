{
 "cells": [
  {
   "cell_type": "code",
   "execution_count": 1,
   "id": "bd0f88b2",
   "metadata": {},
   "outputs": [
    {
     "data": {
      "text/plain": [
       "'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'"
      ]
     },
     "execution_count": 1,
     "metadata": {},
     "output_type": "execute_result"
    }
   ],
   "source": [
    "import os\n",
    "from dotenv import load_dotenv\n",
    "load_dotenv()\n",
    "\n",
    "groq_api_key = os.getenv(\"GROQ_API_KEY\")\n",
    "\n",
    "groq_api_key"
   ]
  },
  {
   "cell_type": "code",
   "execution_count": 2,
   "id": "828c6feb",
   "metadata": {},
   "outputs": [
    {
     "data": {
      "text/plain": [
       "ChatGroq(client=<groq.resources.chat.completions.Completions object at 0x0000028D79C79210>, async_client=<groq.resources.chat.completions.AsyncCompletions object at 0x0000028D79DBD590>, model_name='Gemma2-9b-It', groq_api_key=SecretStr('**********'))"
      ]
     },
     "execution_count": 2,
     "metadata": {},
     "output_type": "execute_result"
    }
   ],
   "source": [
    "from langchain_groq import ChatGroq\n",
    "model = ChatGroq(model=\"Gemma2-9b-It\",groq_api_key=groq_api_key)\n",
    "\n",
    "model"
   ]
  },
  {
   "cell_type": "code",
   "execution_count": 3,
   "id": "4d17af52",
   "metadata": {},
   "outputs": [
    {
     "data": {
      "text/plain": [
       "AIMessage(content=\"Hi Mohsin,\\n\\nIt's nice to meet you!  \\n\\nI'm glad to know you're an AI Specialist. That's a fascinating field. What kind of work do you do in AI?  \\n\\nI'm always interested in learning more about how people are using AI to make a difference in the world.\\n\", response_metadata={'token_usage': {'completion_tokens': 72, 'prompt_tokens': 22, 'total_tokens': 94, 'completion_time': 0.130909091, 'prompt_time': 0.001321109, 'queue_time': 0.250727381, 'total_time': 0.1322302}, 'model_name': 'Gemma2-9b-It', 'system_fingerprint': 'fp_10c08bf97d', 'finish_reason': 'stop', 'logprobs': None}, id='run-dec74543-a5df-4167-a1c8-6a8234a6eea0-0', usage_metadata={'input_tokens': 22, 'output_tokens': 72, 'total_tokens': 94})"
      ]
     },
     "execution_count": 3,
     "metadata": {},
     "output_type": "execute_result"
    }
   ],
   "source": [
    "from langchain_core.messages import HumanMessage\n",
    "\n",
    "model.invoke([HumanMessage(content=\"Hi, My name is Mohsin and I am an AI Specialist\")])"
   ]
  },
  {
   "cell_type": "code",
   "execution_count": 4,
   "id": "b3e01132",
   "metadata": {},
   "outputs": [
    {
     "data": {
      "text/plain": [
       "AIMessage(content=\"As a large language model, I have no memory of past conversations and I don't know your name. If you'd like to tell me, I'd be happy to know! 😊\\n\", response_metadata={'token_usage': {'completion_tokens': 43, 'prompt_tokens': 17, 'total_tokens': 60, 'completion_time': 0.078181818, 'prompt_time': 0.001258789, 'queue_time': 0.251465251, 'total_time': 0.079440607}, 'model_name': 'Gemma2-9b-It', 'system_fingerprint': 'fp_10c08bf97d', 'finish_reason': 'stop', 'logprobs': None}, id='run-8f3e2f3b-cae2-4f2c-9069-331807c167a5-0', usage_metadata={'input_tokens': 17, 'output_tokens': 43, 'total_tokens': 60})"
      ]
     },
     "execution_count": 4,
     "metadata": {},
     "output_type": "execute_result"
    }
   ],
   "source": [
    "\n",
    "model.invoke([HumanMessage(content=\"Hi, do you know my name?\")])"
   ]
  },
  {
   "cell_type": "code",
   "execution_count": 5,
   "id": "a3dafab9",
   "metadata": {},
   "outputs": [
    {
     "data": {
      "text/plain": [
       "AIMessage(content='You said your name is Mohsin.  😊 \\n\\nHow can I help you today, Mohsin?\\n', response_metadata={'token_usage': {'completion_tokens': 25, 'prompt_tokens': 91, 'total_tokens': 116, 'completion_time': 0.045454545, 'prompt_time': 0.002591499, 'queue_time': 0.246622201, 'total_time': 0.048046044}, 'model_name': 'Gemma2-9b-It', 'system_fingerprint': 'fp_10c08bf97d', 'finish_reason': 'stop', 'logprobs': None}, id='run-08bd7d15-e200-4639-9dcc-9c63d56202a5-0', usage_metadata={'input_tokens': 91, 'output_tokens': 25, 'total_tokens': 116})"
      ]
     },
     "execution_count": 5,
     "metadata": {},
     "output_type": "execute_result"
    }
   ],
   "source": [
    "from langchain_core.messages import AIMessage\n",
    "\n",
    "model.invoke(\n",
    "    [\n",
    "        HumanMessage(content= \"Hi, My name is Mohsin and I am an AI Specialist\"),\n",
    "        AIMessage(content=\"Hi Shahzeb, it's nice to meet you! \\n\\nIt's fascinating to meet another AI enthusiast. What kind of AI work do you specialize in? I'm always eager to learn more about the different areas of AI research and development.\"),\n",
    "        HumanMessage(content= \"Hey what's my name ?\")\n",
    "    ]\n",
    ")"
   ]
  },
  {
   "cell_type": "code",
   "execution_count": 6,
   "id": "d36e5c00",
   "metadata": {},
   "outputs": [],
   "source": [
    "from langchain_community.chat_message_histories import ChatMessageHistory\n",
    "from langchain_core.chat_history import BaseChatMessageHistory\n",
    "from langchain_core.runnables.history import RunnableWithMessageHistory\n",
    "\n",
    "store = {}\n",
    "\n",
    "def get_session_history(session_id:str)->BaseChatMessageHistory:\n",
    "    if session_id not in store:\n",
    "        store[session_id] = ChatMessageHistory()\n",
    "    return store[session_id]\n",
    "\n",
    "with_message_history = RunnableWithMessageHistory(model,get_session_history=get_session_history)"
   ]
  },
  {
   "cell_type": "code",
   "execution_count": 7,
   "id": "fa9afe27",
   "metadata": {},
   "outputs": [],
   "source": [
    "config = {\"configurable\":{\"session_id\":\"chat1\"}}"
   ]
  },
  {
   "cell_type": "code",
   "execution_count": 9,
   "id": "36376e8e",
   "metadata": {},
   "outputs": [],
   "source": [
    "response = with_message_history.invoke(\n",
    "    [HumanMessage(content=\"Hi, My name is Mohsin nd I am 18 years old\")],\n",
    "    config = config,\n",
    ")"
   ]
  },
  {
   "cell_type": "code",
   "execution_count": 11,
   "id": "f5563ace",
   "metadata": {},
   "outputs": [
    {
     "data": {
      "text/plain": [
       "\"Mohsin, I understand wanting to achieve great financial success!  Making $500 billion is an incredibly ambitious goal,  far beyond what most people achieve. It would likely involve a combination of factors like:\\n\\n* **Starting a massively successful company:** Think of companies like Apple, Amazon, or Microsoft at their peak. \\n* **Investing incredibly wisely:**  This could involve identifying and investing in groundbreaking technologies or businesses early on.\\n* **Winning the lottery (highly unlikely!):** While possible, it's not a reliable strategy.\\n\\n**Important Note:**  I can't give financial advice. It's crucial to consult with qualified financial advisors and do your own thorough research before making any major investment decisions.\\n\\n**And yes, I remember your name is Mohsin!**  \\n\\nIs there anything else I can help you with today? Perhaps we could explore some more realistic financial goals or discuss interesting business ideas?  I'm here to help in any way I can!\\n\""
      ]
     },
     "execution_count": 11,
     "metadata": {},
     "output_type": "execute_result"
    }
   ],
   "source": [
    "response = with_message_history.invoke(\n",
    "    [HumanMessage(content=\"I want to make 500 billion $ can you guide me how to do it? and also do you know whaat's my naame?\")],\n",
    "    config = config,\n",
    ")\n",
    "response.content"
   ]
  },
  {
   "cell_type": "code",
   "execution_count": 12,
   "id": "a4c89be7",
   "metadata": {},
   "outputs": [],
   "source": [
    "config1 = {\"configurable\":{\"session_id\":\"chat2\"}}"
   ]
  },
  {
   "cell_type": "code",
   "execution_count": 13,
   "id": "9315b7b9",
   "metadata": {},
   "outputs": [
    {
     "data": {
      "text/plain": [
       "\"As an AI, I don't have access to any personal information about you, including your name. Could you tell me your name? 😊\\n\""
      ]
     },
     "execution_count": 13,
     "metadata": {},
     "output_type": "execute_result"
    }
   ],
   "source": [
    "response = with_message_history.invoke(\n",
    "    [HumanMessage(content=\" do you know whaat's my name?\")],\n",
    "    config = config1,\n",
    ")\n",
    "response.content"
   ]
  },
  {
   "cell_type": "code",
   "execution_count": 15,
   "id": "ce7ffdb4",
   "metadata": {},
   "outputs": [
    {
     "data": {
      "text/plain": [
       "'Yes, Mohsin, I remember your name! \\n\\nIs there anything else I can help you with?  😄 \\n'"
      ]
     },
     "execution_count": 15,
     "metadata": {},
     "output_type": "execute_result"
    }
   ],
   "source": [
    "response = with_message_history.invoke(\n",
    "    [HumanMessage(content=\" do you know whaat's my name?\")],\n",
    "    config = config,\n",
    ")\n",
    "response.content"
   ]
  },
  {
   "cell_type": "code",
   "execution_count": 16,
   "id": "fa4ccade",
   "metadata": {},
   "outputs": [
    {
     "data": {
      "text/plain": [
       "'Nice to meet you, Shaheer!  \\n\\nIs there anything I can help you with today? 😊\\n'"
      ]
     },
     "execution_count": 16,
     "metadata": {},
     "output_type": "execute_result"
    }
   ],
   "source": [
    "response = with_message_history.invoke(\n",
    "    [HumanMessage(content=\" my name is Shaheer\")],\n",
    "    config = config1,\n",
    ")\n",
    "response.content"
   ]
  },
  {
   "cell_type": "code",
   "execution_count": 17,
   "id": "e4e27485",
   "metadata": {},
   "outputs": [
    {
     "data": {
      "text/plain": [
       "'Yes, you told me your name is Shaheer earlier!  😊 \\n\\nIs there anything else I can help you with?\\n'"
      ]
     },
     "execution_count": 17,
     "metadata": {},
     "output_type": "execute_result"
    }
   ],
   "source": [
    "response = with_message_history.invoke(\n",
    "    [HumanMessage(content=\" do you know whats my name?\")],\n",
    "    config = config1,\n",
    ")\n",
    "response.content"
   ]
  },
  {
   "cell_type": "code",
   "execution_count": null,
   "id": "36994686",
   "metadata": {},
   "outputs": [],
   "source": []
  }
 ],
 "metadata": {
  "kernelspec": {
   "display_name": "bot",
   "language": "python",
   "name": "python3"
  },
  "language_info": {
   "codemirror_mode": {
    "name": "ipython",
    "version": 3
   },
   "file_extension": ".py",
   "mimetype": "text/x-python",
   "name": "python",
   "nbconvert_exporter": "python",
   "pygments_lexer": "ipython3",
   "version": "3.11.9"
  }
 },
 "nbformat": 4,
 "nbformat_minor": 5
}
